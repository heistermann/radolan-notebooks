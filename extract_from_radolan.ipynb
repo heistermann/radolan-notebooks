{
 "cells": [
  {
   "cell_type": "code",
   "execution_count": 1,
   "id": "52a45cc9",
   "metadata": {},
   "outputs": [],
   "source": [
    "import geopandas as gpd\n",
    "import pandas as pd\n",
    "import matplotlib.pyplot as plt\n",
    "import numpy as np\n",
    "import os\n",
    "#import netCDF4 as nc\n",
    "import scipy.spatial as sp\n",
    "import wradlib.georef as georef\n",
    "import wradlib\n",
    "import datetime as dt\n",
    "import xarray as xr\n",
    "import rasterio\n",
    "import rasterio.mask as riom\n",
    "import tarfile\n",
    "import sys\n",
    "import glob\n",
    "import xarray as xr\n",
    "import tarfile"
   ]
  },
  {
   "cell_type": "code",
   "execution_count": 2,
   "id": "67135307",
   "metadata": {},
   "outputs": [],
   "source": [
    "locs = pd.read_csv(\"data/locs/14_Sep_Matrix_UTM_WGS84.csv\", sep=\",\")\n",
    "locs = gpd.GeoDataFrame(locs, geometry=gpd.points_from_xy(locs.E, locs.N), crs=\"EPSG:32632\").to_crs(\"EPSG:4326\")"
   ]
  },
  {
   "cell_type": "code",
   "execution_count": 3,
   "id": "efccd623",
   "metadata": {},
   "outputs": [
    {
     "data": {
      "text/plain": [
       "(2012, 2)"
      ]
     },
     "execution_count": 3,
     "metadata": {},
     "output_type": "execute_result"
    }
   ],
   "source": [
    "xy = np.array([locs.geometry.x,locs.geometry.y]).T\n",
    "xy.shape"
   ]
  },
  {
   "cell_type": "code",
   "execution_count": 4,
   "id": "52b20909",
   "metadata": {},
   "outputs": [
    {
     "name": "stderr",
     "output_type": "stream",
     "text": [
      "/home/maik/miniconda3/envs/cs2/lib/python3.9/site-packages/wradlib/georef/projection.py:172: DeprecationWarning: distutils Version classes are deprecated. Use packaging.version instead.\n",
      "  if LooseVersion(gdal.VersionInfo(\"RELEASE_NAME\")) >= LooseVersion(\"3\"):\n",
      "/home/maik/miniconda3/envs/cs2/lib/python3.9/site-packages/wradlib/georef/projection.py:172: DeprecationWarning: distutils Version classes are deprecated. Use packaging.version instead.\n",
      "  if LooseVersion(gdal.VersionInfo(\"RELEASE_NAME\")) >= LooseVersion(\"3\"):\n",
      "/home/maik/miniconda3/envs/cs2/lib/python3.9/site-packages/wradlib/georef/projection.py:304: DeprecationWarning: distutils Version classes are deprecated. Use packaging.version instead.\n",
      "  if LooseVersion(gdal.VersionInfo(\"RELEASE_NAME\")) >= LooseVersion(\"3\"):\n",
      "/home/maik/miniconda3/envs/cs2/lib/python3.9/site-packages/wradlib/georef/projection.py:304: DeprecationWarning: distutils Version classes are deprecated. Use packaging.version instead.\n",
      "  if LooseVersion(gdal.VersionInfo(\"RELEASE_NAME\")) >= LooseVersion(\"3\"):\n",
      "/home/maik/miniconda3/envs/cs2/lib/python3.9/site-packages/wradlib/georef/projection.py:172: DeprecationWarning: distutils Version classes are deprecated. Use packaging.version instead.\n",
      "  if LooseVersion(gdal.VersionInfo(\"RELEASE_NAME\")) >= LooseVersion(\"3\"):\n",
      "/home/maik/miniconda3/envs/cs2/lib/python3.9/site-packages/wradlib/georef/projection.py:172: DeprecationWarning: distutils Version classes are deprecated. Use packaging.version instead.\n",
      "  if LooseVersion(gdal.VersionInfo(\"RELEASE_NAME\")) >= LooseVersion(\"3\"):\n",
      "/home/maik/miniconda3/envs/cs2/lib/python3.9/site-packages/wradlib/georef/projection.py:304: DeprecationWarning: distutils Version classes are deprecated. Use packaging.version instead.\n",
      "  if LooseVersion(gdal.VersionInfo(\"RELEASE_NAME\")) >= LooseVersion(\"3\"):\n",
      "/home/maik/miniconda3/envs/cs2/lib/python3.9/site-packages/wradlib/georef/projection.py:304: DeprecationWarning: distutils Version classes are deprecated. Use packaging.version instead.\n",
      "  if LooseVersion(gdal.VersionInfo(\"RELEASE_NAME\")) >= LooseVersion(\"3\"):\n"
     ]
    }
   ],
   "source": [
    "radolan_grid_ll = georef.get_radolan_grid(900,900, wgs84=True)\n",
    "#print(\"{0}, ({1:.4f}, {2:.4f})\".format(radolan_grid_ll.shape, *radolan_grid_ll[0,0,:]))\n",
    "\n",
    "lons = radolan_grid_ll[:,:,0].ravel()\n",
    "lats = radolan_grid_ll[:,:,1].ravel()\n",
    "tree = sp.KDTree(np.c_[lons, lats])\n",
    "dd, ii = tree.query(xy, k=1)\n",
    "ids = np.unique(ii)"
   ]
  },
  {
   "cell_type": "code",
   "execution_count": 5,
   "id": "b5930fae",
   "metadata": {},
   "outputs": [
    {
     "data": {
      "text/plain": [
       "array(['pixel1', 'pixel2', 'pixel3', 'pixel4', 'pixel5', 'pixel6',\n",
       "       'pixel7', 'pixel8', 'pixel9', 'pixel10', 'pixel11', 'pixel12',\n",
       "       'pixel13', 'pixel14', 'pixel15', 'pixel16'], dtype='<U7')"
      ]
     },
     "execution_count": 5,
     "metadata": {},
     "output_type": "execute_result"
    }
   ],
   "source": [
    "pixelids = np.array([\"pixel\"+str(i+1) for i in range(len(ids))])\n",
    "pixelids"
   ]
  },
  {
   "cell_type": "code",
   "execution_count": 6,
   "id": "3b65fc2e",
   "metadata": {},
   "outputs": [],
   "source": [
    "locs[\"pixelid\"] = [\"pixel\"+str(np.where(ids==id_)[0][0]+1) for id_ in ii]\n",
    "locs[\"pixellon\"] = lons[ii]\n",
    "locs[\"pixellat\"] = lats[ii]\n",
    "header=\"\"\"# This file contains the original grid point of the rover grid (as specified in \n",
    "# file 14_Sep_Matrix_UTM_WGS84.csv) and the corresponding RADOLAN pixel IDs and coordinates.\n",
    "# The RADOLAN pixel IDs and coordinate are also specified in file radolan-coords.csv.\n",
    "# The hourly precipitation time series for each RADOLAN pixel ID is specified in file radolan-extract.csv. \n",
    "# \n",
    "# E: original grid point easting of rover grid (EPSG:32632)\n",
    "# N: original grid point northing of rover grid (EPSG:32632)\n",
    "# pixelid: ID of radolan pixel mapped to rover grid points (see radolan-coords.csv and radolan-extract.csv)\n",
    "# pixellon: longitude of radolan pixel mapped to rover grid points (EPSG:4326)\n",
    "# pixellat: latitude of radolan pixel mapped to rover grid points (EPSG:4326)\n",
    "\"\"\"\n",
    "with open(\"data/locs/rover2radolan.csv\", \"w\") as f:\n",
    "    f.write(header)\n",
    "    locs[[\"E\", \"N\", \"pixelid\", \"pixellon\", \"pixellat\"]].to_csv(f, float_format=\"%.6f\",\n",
    "                                                          index=False)"
   ]
  },
  {
   "cell_type": "code",
   "execution_count": 7,
   "id": "4e687036",
   "metadata": {},
   "outputs": [],
   "source": [
    "files = glob.glob(\"data/rw/2022/raa01-rw_10000-*-dwd---bin.gz\")\n",
    "files.sort()\n",
    "#files"
   ]
  },
  {
   "cell_type": "code",
   "execution_count": 8,
   "id": "b857fcb7",
   "metadata": {},
   "outputs": [
    {
     "name": "stdout",
     "output_type": "stream",
     "text": [
      "raa01-rw_10000-2201010050-dwd---bin.gz\n",
      "raa01-rw_10000-2201212050-dwd---bin.gz\n",
      "raa01-rw_10000-2202111650-dwd---bin.gz\n",
      "raa01-rw_10000-2203041250-dwd---bin.gz\n",
      "raa01-rw_10000-2203250850-dwd---bin.gz\n",
      "raa01-rw_10000-2204150450-dwd---bin.gz\n",
      "raa01-rw_10000-2205060050-dwd---bin.gz\n",
      "raa01-rw_10000-2205262050-dwd---bin.gz\n",
      "raa01-rw_10000-2206161650-dwd---bin.gz\n",
      "raa01-rw_10000-2207071250-dwd---bin.gz\n",
      "raa01-rw_10000-2207280850-dwd---bin.gz\n",
      "raa01-rw_10000-2208180450-dwd---bin.gz\n",
      "raa01-rw_10000-2209080050-dwd---bin.gz\n",
      "raa01-rw_10000-2209282050-dwd---bin.gz\n",
      "raa01-rw_10000-2210191650-dwd---bin.gz\n",
      "raa01-rw_10000-2211091250-dwd---bin.gz\n",
      "raa01-rw_10000-2211300850-dwd---bin.gz\n"
     ]
    }
   ],
   "source": [
    "report = files[::500]\n",
    "alldata = np.zeros((len(files),len(ids)))\n",
    "dtimes = []\n",
    "for i,f in enumerate(files):\n",
    "    if f in report:\n",
    "        print(os.path.basename(f))\n",
    "    data, metadata = wradlib.io.read_radolan_composite(f)\n",
    "    dtimes.append( dt.datetime.strptime(os.path.basename(f), \"raa01-rw_10000-%y%m%d%H%M-dwd---bin.gz\") )\n",
    "    alldata[i,:] = data.ravel()[ids]"
   ]
  },
  {
   "cell_type": "code",
   "execution_count": 9,
   "id": "8779feef",
   "metadata": {},
   "outputs": [],
   "source": [
    "df22 = pd.DataFrame(alldata, columns=ids, index=dtimes)"
   ]
  },
  {
   "cell_type": "code",
   "execution_count": 10,
   "id": "e84e5fa0",
   "metadata": {},
   "outputs": [],
   "source": [
    "#df.to_csv(\"radolan-extract.csv\", index=True, date_format=\"%Y-%m-%dT%H:%M:%S\", index_label=\"datetime\", float_format=\"%.2f\")"
   ]
  },
  {
   "cell_type": "markdown",
   "id": "c88c6a04",
   "metadata": {},
   "source": [
    "## Reprocessed data from 2021"
   ]
  },
  {
   "cell_type": "code",
   "execution_count": 11,
   "id": "20e0d629",
   "metadata": {},
   "outputs": [
    {
     "name": "stderr",
     "output_type": "stream",
     "text": [
      "/home/maik/miniconda3/envs/cs2/lib/python3.9/site-packages/wradlib/georef/projection.py:172: DeprecationWarning: distutils Version classes are deprecated. Use packaging.version instead.\n",
      "  if LooseVersion(gdal.VersionInfo(\"RELEASE_NAME\")) >= LooseVersion(\"3\"):\n",
      "/home/maik/miniconda3/envs/cs2/lib/python3.9/site-packages/wradlib/georef/projection.py:172: DeprecationWarning: distutils Version classes are deprecated. Use packaging.version instead.\n",
      "  if LooseVersion(gdal.VersionInfo(\"RELEASE_NAME\")) >= LooseVersion(\"3\"):\n",
      "/home/maik/miniconda3/envs/cs2/lib/python3.9/site-packages/wradlib/georef/projection.py:304: DeprecationWarning: distutils Version classes are deprecated. Use packaging.version instead.\n",
      "  if LooseVersion(gdal.VersionInfo(\"RELEASE_NAME\")) >= LooseVersion(\"3\"):\n",
      "/home/maik/miniconda3/envs/cs2/lib/python3.9/site-packages/wradlib/georef/projection.py:304: DeprecationWarning: distutils Version classes are deprecated. Use packaging.version instead.\n",
      "  if LooseVersion(gdal.VersionInfo(\"RELEASE_NAME\")) >= LooseVersion(\"3\"):\n",
      "/home/maik/miniconda3/envs/cs2/lib/python3.9/site-packages/wradlib/georef/projection.py:172: DeprecationWarning: distutils Version classes are deprecated. Use packaging.version instead.\n",
      "  if LooseVersion(gdal.VersionInfo(\"RELEASE_NAME\")) >= LooseVersion(\"3\"):\n",
      "/home/maik/miniconda3/envs/cs2/lib/python3.9/site-packages/wradlib/georef/projection.py:172: DeprecationWarning: distutils Version classes are deprecated. Use packaging.version instead.\n",
      "  if LooseVersion(gdal.VersionInfo(\"RELEASE_NAME\")) >= LooseVersion(\"3\"):\n",
      "/home/maik/miniconda3/envs/cs2/lib/python3.9/site-packages/wradlib/georef/projection.py:304: DeprecationWarning: distutils Version classes are deprecated. Use packaging.version instead.\n",
      "  if LooseVersion(gdal.VersionInfo(\"RELEASE_NAME\")) >= LooseVersion(\"3\"):\n",
      "/home/maik/miniconda3/envs/cs2/lib/python3.9/site-packages/wradlib/georef/projection.py:304: DeprecationWarning: distutils Version classes are deprecated. Use packaging.version instead.\n",
      "  if LooseVersion(gdal.VersionInfo(\"RELEASE_NAME\")) >= LooseVersion(\"3\"):\n"
     ]
    },
    {
     "data": {
      "text/plain": [
       "array([574704, 574705, 574706, 575606, 575607, 575608, 576508, 576509,\n",
       "       577409, 577410, 578310, 578311, 579209, 579210, 579211, 580111])"
      ]
     },
     "execution_count": 11,
     "metadata": {},
     "output_type": "execute_result"
    }
   ],
   "source": [
    "radolan_grid_ll2 = georef.get_radolan_grid(1100,900, wgs84=True)\n",
    "\n",
    "lons2 = radolan_grid_ll2[:,:,0].ravel()\n",
    "lats2 = radolan_grid_ll2[:,:,1].ravel()\n",
    "# Now we use the previous lon/lat of the operational product as target\n",
    "# in order to enforce consistency of selected grid cells\n",
    "tree2 = sp.KDTree(np.c_[lons2, lats2])\n",
    "xy2 = np.c_[lons[ids], lats[ids]]\n",
    "dd2, ii2 = tree2.query(xy2, k=1)\n",
    "ids2 = np.unique(ii2)\n",
    "ids2"
   ]
  },
  {
   "cell_type": "code",
   "execution_count": 12,
   "id": "d8202394",
   "metadata": {},
   "outputs": [
    {
     "data": {
      "text/plain": [
       "<AxesSubplot:>"
      ]
     },
     "execution_count": 12,
     "metadata": {},
     "output_type": "execute_result"
    },
    {
     "data": {
      "image/png": "[encoded data removed]",
      "text/plain": [
       "<Figure size 432x288 with 1 Axes>"
      ]
     },
     "metadata": {
      "needs_background": "light"
     },
     "output_type": "display_data"
    }
   ],
   "source": [
    "fig, ax = plt.subplots(1,1)\n",
    "plt.plot(lons2, lats2, \"k+\", ms=1)\n",
    "plt.plot(lons, lats, marker=\"+\", lw=0, color=\"grey\", ms=1)\n",
    "plt.plot(lons[ids], lats[ids], \"g+\", ms=30)\n",
    "plt.plot(lons2[ids2], lats2[ids2], \"rx\", ms=20)\n",
    "locs.plot(ax=ax, markersize=10, zorder=10)\n"
   ]
  },
  {
   "cell_type": "code",
   "execution_count": 13,
   "id": "829b1b4a",
   "metadata": {},
   "outputs": [
    {
     "name": "stdout",
     "output_type": "stream",
     "text": [
      "data/rw/2021_repr/RW2017.002_202102.tar.gz\n",
      "data/rw/2021_repr/RW2017.002_202105.tar.gz\n",
      "data/rw/2021_repr/RW2017.002_202106.tar.gz\n",
      "data/rw/2021_repr/RW2017.002_202103.tar.gz\n",
      "data/rw/2021_repr/RW2017.002_202109.tar.gz\n",
      "data/rw/2021_repr/RW2017.002_202104.tar.gz\n",
      "data/rw/2021_repr/RW2017.002_202112.tar.gz\n",
      "data/rw/2021_repr/RW2017.002_202107.tar.gz\n",
      "data/rw/2021_repr/RW2017.002_202110.tar.gz\n",
      "data/rw/2021_repr/RW2017.002_202111.tar.gz\n",
      "data/rw/2021_repr/RW2017.002_202108.tar.gz\n",
      "data/rw/2021_repr/RW2017.002_202101.tar.gz\n"
     ]
    }
   ],
   "source": [
    "tarfs = glob.glob(\"data/rw/2021_repr/RW2017.002_*.tar.gz\")\n",
    "df21 = pd.DataFrame(columns=ids)\n",
    "for tarf in tarfs:\n",
    "    print(tarf)\n",
    "    tar = tarfile.open(tarf)\n",
    "    members = tar.getmembers()\n",
    "    dtimes = []\n",
    "    alldata = np.zeros((len(members),len(ids)))\n",
    "    for i,member in enumerate(members):\n",
    "        f=tar.extractfile(member)\n",
    "        data, metadata = wradlib.io.read_radolan_composite(f)\n",
    "        data[data==-9999.] = np.nan\n",
    "        dtimes.append( metadata[\"datetime\"] )\n",
    "        alldata[i,:] = data.ravel()[ids2]              \n",
    "    tar.close()\n",
    "    tmp = pd.DataFrame(alldata, columns=ids, index=dtimes)\n",
    "    df21 = pd.concat( [df21, tmp] )\n",
    "df21 = df21.sort_index()"
   ]
  },
  {
   "cell_type": "code",
   "execution_count": 14,
   "id": "db763ed5",
   "metadata": {},
   "outputs": [],
   "source": [
    "df = pd.concat( [df21, df22] ).sort_index()\n",
    "for column in df.columns:\n",
    "    df[column] = df[column].astype(\"float\")\n",
    "df.columns = pixelids"
   ]
  },
  {
   "cell_type": "code",
   "execution_count": 15,
   "id": "3b3aac7d",
   "metadata": {},
   "outputs": [],
   "source": [
    "header=\"\"\"# This file contains the hourly precipitation time series for each RADOLAN pixel ID.\n",
    "# The RADOLAN pixel IDs are used as column headers and are mapped to each rover grid point in the file\n",
    "# rover2radolan.csv. The locations of the RADOLAN pixel are also redundantly specified in the file \n",
    "# radolan-coords.csv. Datetime is in UTC and refers to the end of an hourly interval.\n",
    "\"\"\"\n",
    "with open(\"data/locs/radolan-extract.csv\", \"w\") as f:\n",
    "    f.write(header)\n",
    "    df.to_csv(f, index=True, date_format=\"%Y-%m-%dT%H:%M:%S\", \n",
    "              index_label=\"datetime\", float_format=\"%.2f\")"
   ]
  },
  {
   "cell_type": "code",
   "execution_count": 16,
   "id": "ff26177c",
   "metadata": {},
   "outputs": [],
   "source": [
    "header=\"\"\"# This file contains the locations (pixel center coordinates) of the RADOLAN pixels.\n",
    "# \n",
    "# pixelid: ID of radolan pixel mapped to rover grid points (see also rover2radolan.csv and radolan-extract.csv)\n",
    "# lon: longitude of radolan pixel (EPSG:4326)\n",
    "# lat: latitude of radolan pixel (EPSG:4326)\n",
    "\"\"\"\n",
    "with open(\"data/locs/radolan-coords.csv\", \"w\") as f:\n",
    "    f.write(header)\n",
    "    dfpixels = pd.DataFrame(np.c_[lons[ids], lats[ids]], index=df.columns, columns=[\"lon\", \"lat\"] )\n",
    "    df.to_csv(f, index=True, index_label=\"pixel_id\", float_format=\"%.6f\")"
   ]
  },
  {
   "cell_type": "markdown",
   "id": "2809bdfa",
   "metadata": {},
   "source": [
    "## Check against closest DWD precipitation gauge"
   ]
  },
  {
   "cell_type": "code",
   "execution_count": 18,
   "id": "8085d129",
   "metadata": {},
   "outputs": [
    {
     "data": {
      "text/html": [
       "<div>\n",
       "<style scoped>\n",
       "    .dataframe tbody tr th:only-of-type {\n",
       "        vertical-align: middle;\n",
       "    }\n",
       "\n",
       "    .dataframe tbody tr th {\n",
       "        vertical-align: top;\n",
       "    }\n",
       "\n",
       "    .dataframe thead th {\n",
       "        text-align: right;\n",
       "    }\n",
       "</style>\n",
       "<table border=\"1\" class=\"dataframe\">\n",
       "  <thead>\n",
       "    <tr style=\"text-align: right;\">\n",
       "      <th></th>\n",
       "      <th>id</th>\n",
       "      <th>from</th>\n",
       "      <th>to</th>\n",
       "      <th>elevation</th>\n",
       "      <th>lat</th>\n",
       "      <th>lon</th>\n",
       "      <th>name</th>\n",
       "      <th>state</th>\n",
       "    </tr>\n",
       "  </thead>\n",
       "  <tbody>\n",
       "    <tr>\n",
       "      <th>0</th>\n",
       "      <td>3</td>\n",
       "      <td>19950901</td>\n",
       "      <td>20110401</td>\n",
       "      <td>202</td>\n",
       "      <td>50.7827</td>\n",
       "      <td>6.0941</td>\n",
       "      <td>Aachen</td>\n",
       "      <td>Nordrhein-Westfalen</td>\n",
       "    </tr>\n",
       "    <tr>\n",
       "      <th>1</th>\n",
       "      <td>20</td>\n",
       "      <td>20040814</td>\n",
       "      <td>20221205</td>\n",
       "      <td>432</td>\n",
       "      <td>48.9219</td>\n",
       "      <td>9.9129</td>\n",
       "      <td>Abtsgmünd-Untergröningen</td>\n",
       "      <td>Baden-Württemberg</td>\n",
       "    </tr>\n",
       "    <tr>\n",
       "      <th>2</th>\n",
       "      <td>29</td>\n",
       "      <td>20060110</td>\n",
       "      <td>20221205</td>\n",
       "      <td>260</td>\n",
       "      <td>49.7175</td>\n",
       "      <td>10.9101</td>\n",
       "      <td>Adelsdorf (Kläranlage)</td>\n",
       "      <td>Bayern</td>\n",
       "    </tr>\n",
       "    <tr>\n",
       "      <th>3</th>\n",
       "      <td>44</td>\n",
       "      <td>20070401</td>\n",
       "      <td>20221205</td>\n",
       "      <td>44</td>\n",
       "      <td>52.9336</td>\n",
       "      <td>8.2370</td>\n",
       "      <td>Großenkneten</td>\n",
       "      <td>Niedersachsen</td>\n",
       "    </tr>\n",
       "    <tr>\n",
       "      <th>4</th>\n",
       "      <td>46</td>\n",
       "      <td>20060103</td>\n",
       "      <td>20221205</td>\n",
       "      <td>325</td>\n",
       "      <td>48.9450</td>\n",
       "      <td>12.4639</td>\n",
       "      <td>Aholfing</td>\n",
       "      <td>Bayern</td>\n",
       "    </tr>\n",
       "  </tbody>\n",
       "</table>\n",
       "</div>"
      ],
      "text/plain": [
       "   id      from        to  elevation      lat      lon  \\\n",
       "0   3  19950901  20110401        202  50.7827   6.0941   \n",
       "1  20  20040814  20221205        432  48.9219   9.9129   \n",
       "2  29  20060110  20221205        260  49.7175  10.9101   \n",
       "3  44  20070401  20221205         44  52.9336   8.2370   \n",
       "4  46  20060103  20221205        325  48.9450  12.4639   \n",
       "\n",
       "                       name                state  \n",
       "0                    Aachen  Nordrhein-Westfalen  \n",
       "1  Abtsgmünd-Untergröningen    Baden-Württemberg  \n",
       "2    Adelsdorf (Kläranlage)               Bayern  \n",
       "3              Großenkneten        Niedersachsen  \n",
       "4                  Aholfing               Bayern  "
      ]
     },
     "execution_count": 18,
     "metadata": {},
     "output_type": "execute_result"
    }
   ],
   "source": [
    "fdwdgauges = \"https://opendata.dwd.de/climate_environment/CDC/observations_germany/climate/hourly/precipitation/recent/RR_Stundenwerte_Beschreibung_Stationen.txt\"\n",
    "dwdgauges = pd.read_fwf(fdwdgauges, encoding=\"ISO-8859-1\", skiprows=2, names=[\"id\", \"from\", \"to\", \"elevation\", \"lat\", \"lon\", \"name\",\"state\"])\n",
    "dwdgauges.head()"
   ]
  },
  {
   "cell_type": "code",
   "execution_count": 19,
   "id": "e2a6d5b4",
   "metadata": {},
   "outputs": [
    {
     "data": {
      "text/plain": [
       "array([823, 823, 823, 823, 823, 823, 823, 823, 823, 823, 823, 823, 823,\n",
       "       823,  35,  35])"
      ]
     },
     "execution_count": 19,
     "metadata": {},
     "output_type": "execute_result"
    }
   ],
   "source": [
    "tree = sp.KDTree(np.c_[dwdgauges.lon, dwdgauges.lat])\n",
    "dd, ii = tree.query(np.c_[lons[ids], lats[ids]], k=1)\n",
    "ii"
   ]
  },
  {
   "cell_type": "code",
   "execution_count": 24,
   "id": "04361e0c",
   "metadata": {},
   "outputs": [
    {
     "data": {
      "text/plain": [
       "(51.6, 52.0)"
      ]
     },
     "execution_count": 24,
     "metadata": {},
     "output_type": "execute_result"
    },
    {
     "data": {
      "image/png": "[encoded data removed]",
      "text/plain": [
       "<Figure size 432x288 with 1 Axes>"
      ]
     },
     "metadata": {
      "needs_background": "light"
     },
     "output_type": "display_data"
    }
   ],
   "source": [
    "fig, ax = plt.subplots(1,1)\n",
    "plt.plot(lons2, lats2, \"k+\", ms=1)\n",
    "plt.plot(lons, lats, marker=\"+\", lw=0, color=\"grey\", ms=1)\n",
    "plt.plot(lons[ids], lats[ids], \"g+\", ms=30)\n",
    "plt.plot(lons2[ids2], lats2[ids2], \"rx\", ms=20)\n",
    "locs.plot(ax=ax, markersize=10, zorder=10)\n",
    "plt.plot(dwdgauges.lon[ii], dwdgauges.lat[ii], \"ko\", ms=20, mfc=\"None\", mec=\"tab:red\")\n",
    "plt.xlim(10.7,11.1)\n",
    "plt.ylim(51.6, 52)"
   ]
  },
  {
   "cell_type": "code",
   "execution_count": 59,
   "id": "f55c4bf1",
   "metadata": {},
   "outputs": [
    {
     "data": {
      "text/html": [
       "<div>\n",
       "<style scoped>\n",
       "    .dataframe tbody tr th:only-of-type {\n",
       "        vertical-align: middle;\n",
       "    }\n",
       "\n",
       "    .dataframe tbody tr th {\n",
       "        vertical-align: top;\n",
       "    }\n",
       "\n",
       "    .dataframe thead th {\n",
       "        text-align: right;\n",
       "    }\n",
       "</style>\n",
       "<table border=\"1\" class=\"dataframe\">\n",
       "  <thead>\n",
       "    <tr style=\"text-align: right;\">\n",
       "      <th></th>\n",
       "      <th>id</th>\n",
       "      <th>from</th>\n",
       "      <th>to</th>\n",
       "      <th>elevation</th>\n",
       "      <th>lat</th>\n",
       "      <th>lon</th>\n",
       "      <th>name</th>\n",
       "      <th>state</th>\n",
       "    </tr>\n",
       "  </thead>\n",
       "  <tbody>\n",
       "    <tr>\n",
       "      <th>35</th>\n",
       "      <td>213</td>\n",
       "      <td>20070501</td>\n",
       "      <td>20221205</td>\n",
       "      <td>170</td>\n",
       "      <td>51.9375</td>\n",
       "      <td>10.9897</td>\n",
       "      <td>Sargstedt</td>\n",
       "      <td>Sachsen-Anhalt</td>\n",
       "    </tr>\n",
       "    <tr>\n",
       "      <th>823</th>\n",
       "      <td>4878</td>\n",
       "      <td>20050201</td>\n",
       "      <td>20221205</td>\n",
       "      <td>504</td>\n",
       "      <td>51.6646</td>\n",
       "      <td>10.8811</td>\n",
       "      <td>Oberharz am Brocken-Stiege</td>\n",
       "      <td>Sachsen-Anhalt</td>\n",
       "    </tr>\n",
       "  </tbody>\n",
       "</table>\n",
       "</div>"
      ],
      "text/plain": [
       "       id      from        to  elevation      lat      lon  \\\n",
       "35    213  20070501  20221205        170  51.9375  10.9897   \n",
       "823  4878  20050201  20221205        504  51.6646  10.8811   \n",
       "\n",
       "                           name           state  \n",
       "35                    Sargstedt  Sachsen-Anhalt  \n",
       "823  Oberharz am Brocken-Stiege  Sachsen-Anhalt  "
      ]
     },
     "execution_count": 59,
     "metadata": {},
     "output_type": "execute_result"
    }
   ],
   "source": [
    "subset = dwdgauges.iloc[np.unique(ii)]\n",
    "subset"
   ]
  },
  {
   "cell_type": "code",
   "execution_count": 75,
   "id": "00b2828d",
   "metadata": {},
   "outputs": [
    {
     "data": {
      "text/plain": [
       "<matplotlib.legend.Legend at 0x7f7bc3f78520>"
      ]
     },
     "execution_count": 75,
     "metadata": {},
     "output_type": "execute_result"
    },
    {
     "data": {
      "image/png": "[encoded data removed]",
      "text/plain": [
       "<Figure size 576x576 with 1 Axes>"
      ]
     },
     "metadata": {
      "needs_background": "light"
     },
     "output_type": "display_data"
    }
   ],
   "source": [
    "fig, ax = plt.subplots(1,1, figsize=(8,8))\n",
    "ax.set_aspect(\"equal\")\n",
    "plt.plot(lons, lats, \"kx\", ms=1, label=\"RADOLAN grid\")\n",
    "locs.plot(ax=ax, marker=\"o\", fc=\"None\", ec=\"tab:blue\", markersize=3, zorder=10, label=\"Rover grid points\")\n",
    "plt.plot(lons[ids], lats[ids], \"go\", ms=5, mfc=\"None\", mec=\"tab:red\", label=\"RADOLAN grid (selected)\")\n",
    "plt.plot(subset.loc[35, \"lon\"], subset.loc[35, \"lat\"], \"ko\", ms=10, mfc=\"None\", mec=\"tab:purple\", label=\"Sargstedt\")\n",
    "plt.plot(subset.loc[823, \"lon\"], subset.loc[823, \"lat\"], \"ko\", ms=10, mfc=\"None\", mec=\"tab:green\", label=\"Oberharz a.Br.\")\n",
    "plt.xlim(10.7,11.1)\n",
    "plt.ylim(51.6, 52)\n",
    "plt.xlabel(\"Longitude\")\n",
    "plt.xlabel(\"Latitude\")\n",
    "plt.legend()"
   ]
  },
  {
   "cell_type": "code",
   "execution_count": 40,
   "id": "5d5e5445",
   "metadata": {},
   "outputs": [],
   "source": [
    "rr1 = pd.read_csv(\"data/rr/stundenwerte_RR_04878_akt/produkt_rr_stunde_20210603_20221204_04878.txt\", sep=\";\")\n",
    "rr1.MESS_DATUM = pd.to_datetime(rr1.MESS_DATUM, format=\"%Y%m%d%H\")\n",
    "rr1 = rr1.set_index(\"MESS_DATUM\")\n",
    "rr1 = rr1[[\"  R1\"]]\n",
    "rr1.columns = [\"depth\"]\n",
    "\n",
    "rr2 = pd.read_csv(\"data/rr/stundenwerte_RR_00213_akt/produkt_rr_stunde_20210603_20221204_00213.txt\", sep=\";\")\n",
    "rr2.MESS_DATUM = pd.to_datetime(rr2.MESS_DATUM, format=\"%Y%m%d%H\")\n",
    "rr2 = rr2.set_index(\"MESS_DATUM\")\n",
    "rr2 = rr2[[\"  R1\"]]\n",
    "rr2.columns = [\"depth\"]\n",
    "\n"
   ]
  },
  {
   "cell_type": "code",
   "execution_count": 103,
   "id": "98d00c75",
   "metadata": {},
   "outputs": [],
   "source": [
    "import matplotlib.dates as mdates\n",
    "from matplotlib.dates import DateFormatter"
   ]
  },
  {
   "cell_type": "code",
   "execution_count": 150,
   "id": "a631dc66",
   "metadata": {},
   "outputs": [
    {
     "data": {
      "image/png": "[encoded data removed]",
      "text/plain": [
       "<Figure size 720x360 with 3 Axes>"
      ]
     },
     "metadata": {
      "needs_background": "light"
     },
     "output_type": "display_data"
    }
   ],
   "source": [
    "fig, ax = plt.subplot_mosaic([[\"11\",\"2\"],[\"21\",\"2\"]], figsize=(10,5), sharex=False)\n",
    "plt.sca(ax[\"11\"])\n",
    "tstart = dt.datetime(2021,9,7)\n",
    "tend = dt.datetime(2022,12,5)\n",
    "tmp = df[tstart:tend]\n",
    "plt.plot(tmp.index, tmp.mean(axis=1).cumsum(), label=\"RADOLAN (avg.)\")\n",
    "tmp = rr1[tstart:tend]\n",
    "plt.plot(tmp.index, tmp.depth.cumsum(), label=\"Oberharz a. Br.\")\n",
    "tmp = rr2[tstart:tend]\n",
    "plt.plot(tmp.index, tmp.depth.cumsum(), label=\"Sargstedt\")\n",
    "plt.legend()\n",
    "plt.ylabel(\"mm\")\n",
    "plt.title(\"Cum. depth\")\n",
    "ax[\"11\"].xaxis.set_major_formatter(DateFormatter(\"%y-%m-%d\"))\n",
    "plt.setp(plt.xticks()[1], rotation=30, ha='right')\n",
    "\n",
    "plt.sca(ax[\"21\"])\n",
    "tstart = dt.datetime(2022,4,4)\n",
    "tend = dt.datetime(2022,4,8)\n",
    "tmp = df[tstart:tend]\n",
    "plt.plot(tmp.index, tmp.mean(axis=1), label=\"RADOLAN\", lw=0.5)\n",
    "#for col in tmp.columns:\n",
    "#    plt.plot(tmp.index, tmp[col], color=\"grey\", lw=0.5, label=\"_n\")\n",
    "tmp = rr1[tstart:tend]\n",
    "plt.plot(tmp.index, tmp.depth, label=\"Oberharz a. Br.\", lw=0.5)\n",
    "tmp = rr2[tstart:tend]\n",
    "plt.plot(tmp.index, tmp.depth, label=\"Sargstedt\", lw=0.5)\n",
    "plt.legend()\n",
    "ax[\"21\"].xaxis.set_major_formatter(DateFormatter(\"%y-%m-%d\"))\n",
    "plt.setp(plt.xticks()[1], rotation=30, ha='right')\n",
    "plt.title(\"Example event\")\n",
    "\n",
    "\n",
    "plt.sca(ax[\"2\"])\n",
    "ax[\"2\"].set_aspect(\"equal\")\n",
    "plt.plot(lons, lats, \"kx\", ms=1, label=\"RADOLAN grid\")\n",
    "locs.plot(ax=ax[\"2\"], marker=\"o\", fc=\"None\", ec=\"tab:blue\", markersize=3, label=\"Rover grid points\")\n",
    "plt.plot(lons[ids], lats[ids], \"go\", ms=5, mfc=\"None\", mec=\"tab:red\", label=\"RADOLAN grid (selected)\")\n",
    "plt.plot(subset.loc[35, \"lon\"], subset.loc[35, \"lat\"], \"ko\", ms=10, mfc=\"None\", mec=\"tab:purple\", label=\"Sargstedt\")\n",
    "plt.plot(subset.loc[823, \"lon\"], subset.loc[823, \"lat\"], \"ko\", ms=10, mfc=\"None\", mec=\"tab:green\", label=\"Oberharz a.Br.\")\n",
    "plt.xlim(10.8,11.05)\n",
    "plt.ylim(51.65, 51.95)\n",
    "plt.xlabel(\"Longitude\")\n",
    "plt.ylabel(\"Latitude\")\n",
    "plt.legend(loc=\"lower right\", bbox_to_anchor=(2.2, 0), frameon=False)\n",
    "plt.title(\"Spatial configuration\")\n",
    "\n",
    "plt.tight_layout()\n",
    "plt.savefig(\"data/locs/visual.pdf\", dpi=300)"
   ]
  },
  {
   "cell_type": "code",
   "execution_count": null,
   "id": "0799c9a8",
   "metadata": {},
   "outputs": [],
   "source": []
  }
 ],
 "metadata": {
  "kernelspec": {
   "display_name": "Python 3 (ipykernel)",
   "language": "python",
   "name": "python3"
  },
  "language_info": {
   "codemirror_mode": {
    "name": "ipython",
    "version": 3
   },
   "file_extension": ".py",
   "mimetype": "text/x-python",
   "name": "python",
   "nbconvert_exporter": "python",
   "pygments_lexer": "ipython3",
   "version": "3.9.10"
  },
  "toc": {
   "base_numbering": 1,
   "nav_menu": {},
   "number_sections": false,
   "sideBar": true,
   "skip_h1_title": false,
   "title_cell": "Table of Contents",
   "title_sidebar": "Contents",
   "toc_cell": false,
   "toc_position": {},
   "toc_section_display": true,
   "toc_window_display": true
  }
 },
 "nbformat": 4,
 "nbformat_minor": 5
}
